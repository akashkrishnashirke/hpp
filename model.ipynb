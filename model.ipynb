{
 "cells": [
  {
   "cell_type": "code",
   "execution_count": 1,
   "id": "abc52d1b",
   "metadata": {},
   "outputs": [
    {
     "name": "stdout",
     "output_type": "stream",
     "text": [
      "Python 3.8.10\n"
     ]
    }
   ],
   "source": [
    "!python --version"
   ]
  },
  {
   "cell_type": "code",
   "execution_count": 3,
   "id": "03f6a739",
   "metadata": {},
   "outputs": [],
   "source": [
    "import numpy"
   ]
  },
  {
   "cell_type": "code",
   "execution_count": 4,
   "id": "a67187b5",
   "metadata": {},
   "outputs": [],
   "source": [
    "# Problem Statement:\n",
    "#     House price prediction"
   ]
  },
  {
   "cell_type": "code",
   "execution_count": 5,
   "id": "7d60caa9",
   "metadata": {},
   "outputs": [],
   "source": [
    "#pip install scikit-learn==1.1.3"
   ]
  },
  {
   "cell_type": "code",
   "execution_count": 6,
   "id": "e6e514d1",
   "metadata": {},
   "outputs": [],
   "source": [
    "#pip uninstall scikit-learn"
   ]
  },
  {
   "cell_type": "code",
   "execution_count": 7,
   "id": "0351c535",
   "metadata": {},
   "outputs": [
    {
     "name": "stderr",
     "output_type": "stream",
     "text": [
      "C:\\Users\\HP\\anaconda3\\envs\\hpp\\lib\\site-packages\\sklearn\\utils\\deprecation.py:87: FutureWarning: Function load_boston is deprecated; `load_boston` is deprecated in 1.0 and will be removed in 1.2.\n",
      "\n",
      "    The Boston housing prices dataset has an ethical problem. You can refer to\n",
      "    the documentation of this function for further details.\n",
      "\n",
      "    The scikit-learn maintainers therefore strongly discourage the use of this\n",
      "    dataset unless the purpose of the code is to study and educate about\n",
      "    ethical issues in data science and machine learning.\n",
      "\n",
      "    In this special case, you can fetch the dataset from the original\n",
      "    source::\n",
      "\n",
      "        import pandas as pd\n",
      "        import numpy as np\n",
      "\n",
      "        data_url = \"http://lib.stat.cmu.edu/datasets/boston\"\n",
      "        raw_df = pd.read_csv(data_url, sep=\"\\s+\", skiprows=22, header=None)\n",
      "        data = np.hstack([raw_df.values[::2, :], raw_df.values[1::2, :2]])\n",
      "        target = raw_df.values[1::2, 2]\n",
      "\n",
      "    Alternative datasets include the California housing dataset (i.e.\n",
      "    :func:`~sklearn.datasets.fetch_california_housing`) and the Ames housing\n",
      "    dataset. You can load the datasets as follows::\n",
      "\n",
      "        from sklearn.datasets import fetch_california_housing\n",
      "        housing = fetch_california_housing()\n",
      "\n",
      "    for the California housing dataset and::\n",
      "\n",
      "        from sklearn.datasets import fetch_openml\n",
      "        housing = fetch_openml(name=\"house_prices\", as_frame=True)\n",
      "\n",
      "    for the Ames housing dataset.\n",
      "  warnings.warn(msg, category=FutureWarning)\n"
     ]
    },
    {
     "data": {
      "text/html": [
       "<div>\n",
       "<style scoped>\n",
       "    .dataframe tbody tr th:only-of-type {\n",
       "        vertical-align: middle;\n",
       "    }\n",
       "\n",
       "    .dataframe tbody tr th {\n",
       "        vertical-align: top;\n",
       "    }\n",
       "\n",
       "    .dataframe thead th {\n",
       "        text-align: right;\n",
       "    }\n",
       "</style>\n",
       "<table border=\"1\" class=\"dataframe\">\n",
       "  <thead>\n",
       "    <tr style=\"text-align: right;\">\n",
       "      <th></th>\n",
       "      <th>CRIM</th>\n",
       "      <th>ZN</th>\n",
       "      <th>INDUS</th>\n",
       "      <th>CHAS</th>\n",
       "      <th>NOX</th>\n",
       "      <th>RM</th>\n",
       "      <th>AGE</th>\n",
       "      <th>DIS</th>\n",
       "      <th>RAD</th>\n",
       "      <th>TAX</th>\n",
       "      <th>PTRATIO</th>\n",
       "      <th>B</th>\n",
       "      <th>LSTAT</th>\n",
       "      <th>PRICE</th>\n",
       "    </tr>\n",
       "  </thead>\n",
       "  <tbody>\n",
       "    <tr>\n",
       "      <th>0</th>\n",
       "      <td>0.00632</td>\n",
       "      <td>18.0</td>\n",
       "      <td>2.31</td>\n",
       "      <td>0.0</td>\n",
       "      <td>0.538</td>\n",
       "      <td>6.575</td>\n",
       "      <td>65.2</td>\n",
       "      <td>4.0900</td>\n",
       "      <td>1.0</td>\n",
       "      <td>296.0</td>\n",
       "      <td>15.3</td>\n",
       "      <td>396.9</td>\n",
       "      <td>4.98</td>\n",
       "      <td>24.0</td>\n",
       "    </tr>\n",
       "    <tr>\n",
       "      <th>1</th>\n",
       "      <td>0.02731</td>\n",
       "      <td>0.0</td>\n",
       "      <td>7.07</td>\n",
       "      <td>0.0</td>\n",
       "      <td>0.469</td>\n",
       "      <td>6.421</td>\n",
       "      <td>78.9</td>\n",
       "      <td>4.9671</td>\n",
       "      <td>2.0</td>\n",
       "      <td>242.0</td>\n",
       "      <td>17.8</td>\n",
       "      <td>396.9</td>\n",
       "      <td>9.14</td>\n",
       "      <td>21.6</td>\n",
       "    </tr>\n",
       "  </tbody>\n",
       "</table>\n",
       "</div>"
      ],
      "text/plain": [
       "      CRIM    ZN  INDUS  CHAS    NOX     RM   AGE     DIS  RAD    TAX  \\\n",
       "0  0.00632  18.0   2.31   0.0  0.538  6.575  65.2  4.0900  1.0  296.0   \n",
       "1  0.02731   0.0   7.07   0.0  0.469  6.421  78.9  4.9671  2.0  242.0   \n",
       "\n",
       "   PTRATIO      B  LSTAT  PRICE  \n",
       "0     15.3  396.9   4.98   24.0  \n",
       "1     17.8  396.9   9.14   21.6  "
      ]
     },
     "execution_count": 7,
     "metadata": {},
     "output_type": "execute_result"
    }
   ],
   "source": [
    "# Data Gathering\n",
    "\n",
    "import numpy as np\n",
    "import pandas as pd\n",
    "from sklearn.datasets import load_boston\n",
    "\n",
    "\n",
    "boston = load_boston()\n",
    "boston_df = pd.DataFrame(boston.data, columns = boston.feature_names)\n",
    "boston_df['PRICE'] = boston.target # what is this step\n",
    "boston_df.head(2)"
   ]
  },
  {
   "cell_type": "code",
   "execution_count": null,
   "id": "5fa77d12",
   "metadata": {},
   "outputs": [],
   "source": []
  },
  {
   "cell_type": "code",
   "execution_count": 8,
   "id": "c812e233",
   "metadata": {},
   "outputs": [],
   "source": [
    "#step3: EDA"
   ]
  },
  {
   "cell_type": "code",
   "execution_count": null,
   "id": "ffa072d2",
   "metadata": {},
   "outputs": [],
   "source": []
  },
  {
   "cell_type": "code",
   "execution_count": 9,
   "id": "acb728ed",
   "metadata": {},
   "outputs": [
    {
     "name": "stdout",
     "output_type": "stream",
     "text": [
      "<class 'pandas.core.frame.DataFrame'>\n",
      "RangeIndex: 506 entries, 0 to 505\n",
      "Data columns (total 14 columns):\n",
      " #   Column   Non-Null Count  Dtype  \n",
      "---  ------   --------------  -----  \n",
      " 0   CRIM     506 non-null    float64\n",
      " 1   ZN       506 non-null    float64\n",
      " 2   INDUS    506 non-null    float64\n",
      " 3   CHAS     506 non-null    float64\n",
      " 4   NOX      506 non-null    float64\n",
      " 5   RM       506 non-null    float64\n",
      " 6   AGE      506 non-null    float64\n",
      " 7   DIS      506 non-null    float64\n",
      " 8   RAD      506 non-null    float64\n",
      " 9   TAX      506 non-null    float64\n",
      " 10  PTRATIO  506 non-null    float64\n",
      " 11  B        506 non-null    float64\n",
      " 12  LSTAT    506 non-null    float64\n",
      " 13  PRICE    506 non-null    float64\n",
      "dtypes: float64(14)\n",
      "memory usage: 55.5 KB\n"
     ]
    }
   ],
   "source": [
    "boston_df.info()"
   ]
  },
  {
   "cell_type": "code",
   "execution_count": 10,
   "id": "f2b139a8",
   "metadata": {},
   "outputs": [],
   "source": [
    "# conclusin : all data is integer or numerical format and string not present and null values not present"
   ]
  },
  {
   "cell_type": "code",
   "execution_count": 11,
   "id": "a501ab46",
   "metadata": {},
   "outputs": [
    {
     "data": {
      "text/plain": [
       "CRIM       0\n",
       "ZN         0\n",
       "INDUS      0\n",
       "CHAS       0\n",
       "NOX        0\n",
       "RM         0\n",
       "AGE        0\n",
       "DIS        0\n",
       "RAD        0\n",
       "TAX        0\n",
       "PTRATIO    0\n",
       "B          0\n",
       "LSTAT      0\n",
       "PRICE      0\n",
       "dtype: int64"
      ]
     },
     "execution_count": 11,
     "metadata": {},
     "output_type": "execute_result"
    }
   ],
   "source": [
    "boston_df.isnull().sum() # or boston_df.isna().sum()"
   ]
  },
  {
   "cell_type": "code",
   "execution_count": null,
   "id": "448ececc",
   "metadata": {},
   "outputs": [],
   "source": []
  },
  {
   "cell_type": "code",
   "execution_count": 12,
   "id": "f8eb130c",
   "metadata": {},
   "outputs": [],
   "source": [
    "# step 4 : Feature Engineering"
   ]
  },
  {
   "cell_type": "code",
   "execution_count": 13,
   "id": "d8507984",
   "metadata": {},
   "outputs": [],
   "source": [
    "# step 5 : Feature selection : this dataset is clean so every feature is important"
   ]
  },
  {
   "cell_type": "code",
   "execution_count": 14,
   "id": "d01db8f8",
   "metadata": {},
   "outputs": [],
   "source": [
    "# step  6: model training : in this step we divide our features in two parts are input and target variable "
   ]
  },
  {
   "cell_type": "code",
   "execution_count": 15,
   "id": "fccd902c",
   "metadata": {},
   "outputs": [],
   "source": [
    "x = boston_df.drop('PRICE',axis = 1)\n",
    "y = boston_df['PRICE']\n",
    "\n",
    "from sklearn.model_selection import train_test_split\n",
    "from sklearn.linear_model import LinearRegression\n",
    "from sklearn.metrics import mean_absolute_error,mean_squared_error,r2_score"
   ]
  },
  {
   "cell_type": "code",
   "execution_count": 16,
   "id": "4199829d",
   "metadata": {},
   "outputs": [],
   "source": [
    "# split the data"
   ]
  },
  {
   "cell_type": "code",
   "execution_count": 17,
   "id": "0c4f9e0f",
   "metadata": {},
   "outputs": [
    {
     "data": {
      "text/plain": [
       "((379, 13), (127, 13), (379,), (127,))"
      ]
     },
     "execution_count": 17,
     "metadata": {},
     "output_type": "execute_result"
    }
   ],
   "source": [
    "x_train,x_test, y_train,y_test = train_test_split(x,y, test_size=0.25,random_state=5)\n",
    "x_train.shape,x_test.shape, y_train.shape,y_test.shape"
   ]
  },
  {
   "cell_type": "code",
   "execution_count": 18,
   "id": "f03c9f9a",
   "metadata": {},
   "outputs": [
    {
     "data": {
      "text/html": [
       "<style>#sk-container-id-1 {color: black;background-color: white;}#sk-container-id-1 pre{padding: 0;}#sk-container-id-1 div.sk-toggleable {background-color: white;}#sk-container-id-1 label.sk-toggleable__label {cursor: pointer;display: block;width: 100%;margin-bottom: 0;padding: 0.3em;box-sizing: border-box;text-align: center;}#sk-container-id-1 label.sk-toggleable__label-arrow:before {content: \"▸\";float: left;margin-right: 0.25em;color: #696969;}#sk-container-id-1 label.sk-toggleable__label-arrow:hover:before {color: black;}#sk-container-id-1 div.sk-estimator:hover label.sk-toggleable__label-arrow:before {color: black;}#sk-container-id-1 div.sk-toggleable__content {max-height: 0;max-width: 0;overflow: hidden;text-align: left;background-color: #f0f8ff;}#sk-container-id-1 div.sk-toggleable__content pre {margin: 0.2em;color: black;border-radius: 0.25em;background-color: #f0f8ff;}#sk-container-id-1 input.sk-toggleable__control:checked~div.sk-toggleable__content {max-height: 200px;max-width: 100%;overflow: auto;}#sk-container-id-1 input.sk-toggleable__control:checked~label.sk-toggleable__label-arrow:before {content: \"▾\";}#sk-container-id-1 div.sk-estimator input.sk-toggleable__control:checked~label.sk-toggleable__label {background-color: #d4ebff;}#sk-container-id-1 div.sk-label input.sk-toggleable__control:checked~label.sk-toggleable__label {background-color: #d4ebff;}#sk-container-id-1 input.sk-hidden--visually {border: 0;clip: rect(1px 1px 1px 1px);clip: rect(1px, 1px, 1px, 1px);height: 1px;margin: -1px;overflow: hidden;padding: 0;position: absolute;width: 1px;}#sk-container-id-1 div.sk-estimator {font-family: monospace;background-color: #f0f8ff;border: 1px dotted black;border-radius: 0.25em;box-sizing: border-box;margin-bottom: 0.5em;}#sk-container-id-1 div.sk-estimator:hover {background-color: #d4ebff;}#sk-container-id-1 div.sk-parallel-item::after {content: \"\";width: 100%;border-bottom: 1px solid gray;flex-grow: 1;}#sk-container-id-1 div.sk-label:hover label.sk-toggleable__label {background-color: #d4ebff;}#sk-container-id-1 div.sk-serial::before {content: \"\";position: absolute;border-left: 1px solid gray;box-sizing: border-box;top: 0;bottom: 0;left: 50%;z-index: 0;}#sk-container-id-1 div.sk-serial {display: flex;flex-direction: column;align-items: center;background-color: white;padding-right: 0.2em;padding-left: 0.2em;position: relative;}#sk-container-id-1 div.sk-item {position: relative;z-index: 1;}#sk-container-id-1 div.sk-parallel {display: flex;align-items: stretch;justify-content: center;background-color: white;position: relative;}#sk-container-id-1 div.sk-item::before, #sk-container-id-1 div.sk-parallel-item::before {content: \"\";position: absolute;border-left: 1px solid gray;box-sizing: border-box;top: 0;bottom: 0;left: 50%;z-index: -1;}#sk-container-id-1 div.sk-parallel-item {display: flex;flex-direction: column;z-index: 1;position: relative;background-color: white;}#sk-container-id-1 div.sk-parallel-item:first-child::after {align-self: flex-end;width: 50%;}#sk-container-id-1 div.sk-parallel-item:last-child::after {align-self: flex-start;width: 50%;}#sk-container-id-1 div.sk-parallel-item:only-child::after {width: 0;}#sk-container-id-1 div.sk-dashed-wrapped {border: 1px dashed gray;margin: 0 0.4em 0.5em 0.4em;box-sizing: border-box;padding-bottom: 0.4em;background-color: white;}#sk-container-id-1 div.sk-label label {font-family: monospace;font-weight: bold;display: inline-block;line-height: 1.2em;}#sk-container-id-1 div.sk-label-container {text-align: center;}#sk-container-id-1 div.sk-container {/* jupyter's `normalize.less` sets `[hidden] { display: none; }` but bootstrap.min.css set `[hidden] { display: none !important; }` so we also need the `!important` here to be able to override the default hidden behavior on the sphinx rendered scikit-learn.org. See: https://github.com/scikit-learn/scikit-learn/issues/21755 */display: inline-block !important;position: relative;}#sk-container-id-1 div.sk-text-repr-fallback {display: none;}</style><div id=\"sk-container-id-1\" class=\"sk-top-container\"><div class=\"sk-text-repr-fallback\"><pre>LinearRegression()</pre><b>In a Jupyter environment, please rerun this cell to show the HTML representation or trust the notebook. <br />On GitHub, the HTML representation is unable to render, please try loading this page with nbviewer.org.</b></div><div class=\"sk-container\" hidden><div class=\"sk-item\"><div class=\"sk-estimator sk-toggleable\"><input class=\"sk-toggleable__control sk-hidden--visually\" id=\"sk-estimator-id-1\" type=\"checkbox\" checked><label for=\"sk-estimator-id-1\" class=\"sk-toggleable__label sk-toggleable__label-arrow\">LinearRegression</label><div class=\"sk-toggleable__content\"><pre>LinearRegression()</pre></div></div></div></div></div>"
      ],
      "text/plain": [
       "LinearRegression()"
      ]
     },
     "execution_count": 18,
     "metadata": {},
     "output_type": "execute_result"
    }
   ],
   "source": [
    "# model training\n",
    "\n",
    "lin_model = LinearRegression()\n",
    "lin_model.fit(x_train,y_train)"
   ]
  },
  {
   "cell_type": "code",
   "execution_count": 19,
   "id": "947bf018",
   "metadata": {},
   "outputs": [
    {
     "name": "stdout",
     "output_type": "stream",
     "text": [
      "MSE = 24.274608311687743\n",
      "RMSE = 4.9269268628312055\n",
      "MAE = 3.290018352688538\n",
      "R-squre value = 0.7059096071098063\n"
     ]
    }
   ],
   "source": [
    "##step 7 : model evalution(model accuracy)\n",
    "\n",
    "# testing data\n",
    "\n",
    "y_pred = lin_model.predict(x_test)\n",
    "\n",
    "mse = mean_squared_error(y_test,y_pred)  # mse(mean squre error) y_test means actual data and y_pred means predicted data\n",
    "print(f\"MSE = {mse}\")\n",
    "print(f\"RMSE = {np.sqrt(mse)}\")\n",
    "\n",
    "mae = mean_absolute_error(y_test,y_pred)\n",
    "print(f\"MAE = {mae}\")\n",
    "\n",
    "r2 = r2_score(y_test,y_pred)\n",
    "print(f\"R-squre value = {r2}\")\n"
   ]
  },
  {
   "cell_type": "code",
   "execution_count": null,
   "id": "236d306c",
   "metadata": {},
   "outputs": [],
   "source": []
  },
  {
   "cell_type": "code",
   "execution_count": 20,
   "id": "a6f330d6",
   "metadata": {},
   "outputs": [
    {
     "name": "stdout",
     "output_type": "stream",
     "text": [
      "Training data metrx\n",
      "MSE = 21.514174022233707\n",
      "RMSE = 4.638337420049743\n",
      "MAE = 3.2829237937646543\n",
      "R-squre value = 0.7468034208269783\n"
     ]
    }
   ],
   "source": [
    "# training data\n",
    "\n",
    "y_pred_train = lin_model.predict(x_train)\n",
    "\n",
    "print(\"Training data metrx\")\n",
    "\n",
    "mse = mean_squared_error(y_train,y_pred_train) \n",
    "print(f\"MSE = {mse}\")\n",
    "print(f\"RMSE = {np.sqrt(mse)}\")\n",
    "\n",
    "mae = mean_absolute_error(y_train,y_pred_train)\n",
    "print(f\"MAE = {mae}\")\n",
    "\n",
    "r2 = r2_score(y_train,y_pred_train)\n",
    "print(f\"R-squre value = {r2}\")"
   ]
  },
  {
   "cell_type": "code",
   "execution_count": 21,
   "id": "7e149fe0",
   "metadata": {},
   "outputs": [],
   "source": [
    "# So in TRAINING TIME our model accuracy is 74% and TESTING time our model accuracy is 70%"
   ]
  },
  {
   "cell_type": "code",
   "execution_count": null,
   "id": "b5ed53c1",
   "metadata": {},
   "outputs": [],
   "source": []
  },
  {
   "cell_type": "code",
   "execution_count": 22,
   "id": "dde4337a",
   "metadata": {},
   "outputs": [
    {
     "data": {
      "text/html": [
       "<div>\n",
       "<style scoped>\n",
       "    .dataframe tbody tr th:only-of-type {\n",
       "        vertical-align: middle;\n",
       "    }\n",
       "\n",
       "    .dataframe tbody tr th {\n",
       "        vertical-align: top;\n",
       "    }\n",
       "\n",
       "    .dataframe thead th {\n",
       "        text-align: right;\n",
       "    }\n",
       "</style>\n",
       "<table border=\"1\" class=\"dataframe\">\n",
       "  <thead>\n",
       "    <tr style=\"text-align: right;\">\n",
       "      <th></th>\n",
       "      <th>218</th>\n",
       "    </tr>\n",
       "  </thead>\n",
       "  <tbody>\n",
       "    <tr>\n",
       "      <th>CRIM</th>\n",
       "      <td>0.11069</td>\n",
       "    </tr>\n",
       "    <tr>\n",
       "      <th>ZN</th>\n",
       "      <td>0.00000</td>\n",
       "    </tr>\n",
       "    <tr>\n",
       "      <th>INDUS</th>\n",
       "      <td>13.89000</td>\n",
       "    </tr>\n",
       "    <tr>\n",
       "      <th>CHAS</th>\n",
       "      <td>1.00000</td>\n",
       "    </tr>\n",
       "    <tr>\n",
       "      <th>NOX</th>\n",
       "      <td>0.55000</td>\n",
       "    </tr>\n",
       "    <tr>\n",
       "      <th>RM</th>\n",
       "      <td>5.95100</td>\n",
       "    </tr>\n",
       "    <tr>\n",
       "      <th>AGE</th>\n",
       "      <td>93.80000</td>\n",
       "    </tr>\n",
       "    <tr>\n",
       "      <th>DIS</th>\n",
       "      <td>2.88930</td>\n",
       "    </tr>\n",
       "    <tr>\n",
       "      <th>RAD</th>\n",
       "      <td>5.00000</td>\n",
       "    </tr>\n",
       "    <tr>\n",
       "      <th>TAX</th>\n",
       "      <td>276.00000</td>\n",
       "    </tr>\n",
       "    <tr>\n",
       "      <th>PTRATIO</th>\n",
       "      <td>16.40000</td>\n",
       "    </tr>\n",
       "    <tr>\n",
       "      <th>B</th>\n",
       "      <td>396.90000</td>\n",
       "    </tr>\n",
       "    <tr>\n",
       "      <th>LSTAT</th>\n",
       "      <td>17.92000</td>\n",
       "    </tr>\n",
       "  </tbody>\n",
       "</table>\n",
       "</div>"
      ],
      "text/plain": [
       "               218\n",
       "CRIM       0.11069\n",
       "ZN         0.00000\n",
       "INDUS     13.89000\n",
       "CHAS       1.00000\n",
       "NOX        0.55000\n",
       "RM         5.95100\n",
       "AGE       93.80000\n",
       "DIS        2.88930\n",
       "RAD        5.00000\n",
       "TAX      276.00000\n",
       "PTRATIO   16.40000\n",
       "B        396.90000\n",
       "LSTAT     17.92000"
      ]
     },
     "execution_count": 22,
     "metadata": {},
     "output_type": "execute_result"
    }
   ],
   "source": [
    "# USER TEST fuction:\n",
    "\n",
    "\n",
    "x_train.head(1).T"
   ]
  },
  {
   "cell_type": "code",
   "execution_count": 24,
   "id": "5ab4b365",
   "metadata": {},
   "outputs": [
    {
     "name": "stdout",
     "output_type": "stream",
     "text": [
      "[[2.0000e-01 1.0000e-01 1.4890e+01 2.0000e+00 1.5500e+00 7.9510e+00\n",
      "  9.5800e+01 3.8893e+00 3.0000e+00 2.7500e+02 1.7400e+01 3.9590e+02\n",
      "  1.5920e+01]]\n",
      "2\n"
     ]
    }
   ],
   "source": [
    "# following value change i mean following is input and find the output ?\n",
    "\n",
    "CRIM=0.2\n",
    "ZN=0.1\n",
    "INDUS=14.89000\n",
    "CHAS=2.00000\n",
    "NOX=1.55000\n",
    "RM=7.95100\n",
    "AGE=95.80000\n",
    "DIS=3.88930\n",
    "RAD=3.00000\n",
    "TAX=275.00000\n",
    "PTRATIO=17.40000\n",
    "B=395.90000\n",
    "LSTAT=15.92000\n",
    "\n",
    "# so ha input dewun find PRICE ?\n",
    "#colum_list\n",
    "array = np.array([CRIM ,ZN ,INDUS ,CHAS ,NOX ,RM ,AGE ,DIS ,RAD ,TAX ,PTRATIO ,B ,LSTAT ,],ndmin = 2)\n",
    "\n",
    "print(array)\n",
    "print(array.ndim) \n",
    "# array is 1 dimension but we need 2 dimension so use ndmin = 2 in above"
   ]
  },
  {
   "cell_type": "code",
   "execution_count": 25,
   "id": "e857e969",
   "metadata": {},
   "outputs": [
    {
     "name": "stdout",
     "output_type": "stream",
     "text": [
      "PRICE : [18.22698258]\n"
     ]
    },
    {
     "name": "stderr",
     "output_type": "stream",
     "text": [
      "C:\\Users\\HP\\anaconda3\\envs\\hpp\\lib\\site-packages\\sklearn\\base.py:450: UserWarning: X does not have valid feature names, but LinearRegression was fitted with feature names\n",
      "  warnings.warn(\n"
     ]
    }
   ],
   "source": [
    "PRICE = lin_model.predict(array)\n",
    "print(\"PRICE :\",PRICE)"
   ]
  },
  {
   "cell_type": "code",
   "execution_count": 26,
   "id": "b8b72955",
   "metadata": {},
   "outputs": [
    {
     "name": "stdout",
     "output_type": "stream",
     "text": [
      "[[2.1000e-01 1.0000e-02 1.5890e+01 2.0000e+00 7.5000e-01 7.9510e+00\n",
      "  8.5800e+01 2.5893e+00 3.0000e+00 2.5000e+02 1.2400e+01 3.5090e+02\n",
      "  1.5920e+01]]\n",
      "2\n"
     ]
    }
   ],
   "source": [
    "CRIM=0.21\n",
    "ZN=0.01\n",
    "INDUS=15.89000\n",
    "CHAS=2.00000\n",
    "NOX=0.75000\n",
    "RM=7.95100\n",
    "AGE=85.80000\n",
    "DIS=2.58930\n",
    "RAD=3.00000\n",
    "TAX=250.00000\n",
    "PTRATIO=12.40000\n",
    "B=350.90000\n",
    "LSTAT=15.92000\n",
    "\n",
    "# so ha input dewun find PRICE ?\n",
    "\n",
    "array = np.array([CRIM ,ZN ,INDUS ,CHAS ,NOX ,RM ,AGE ,DIS ,RAD ,TAX ,PTRATIO ,B ,LSTAT ,],ndmin = 2)\n",
    "\n",
    "print(array)\n",
    "print(array.ndim) \n",
    "# array is 1 dimension but we need 2 dimension so use ndmin = 2 in above"
   ]
  },
  {
   "cell_type": "code",
   "execution_count": 27,
   "id": "47aed687",
   "metadata": {},
   "outputs": [
    {
     "name": "stdout",
     "output_type": "stream",
     "text": [
      "PRICE : [36.20864376]\n"
     ]
    },
    {
     "name": "stderr",
     "output_type": "stream",
     "text": [
      "C:\\Users\\HP\\anaconda3\\envs\\hpp\\lib\\site-packages\\sklearn\\base.py:450: UserWarning: X does not have valid feature names, but LinearRegression was fitted with feature names\n",
      "  warnings.warn(\n"
     ]
    }
   ],
   "source": [
    "PRICE = lin_model.predict(array)\n",
    "print(\"PRICE :\",PRICE)"
   ]
  },
  {
   "cell_type": "code",
   "execution_count": null,
   "id": "b44e7fff",
   "metadata": {},
   "outputs": [],
   "source": []
  },
  {
   "cell_type": "code",
   "execution_count": 31,
   "id": "2476702c",
   "metadata": {},
   "outputs": [],
   "source": [
    "# API sathi data ha pickel file madhe lagato so create pickel file\n",
    "\n",
    "import pickle\n",
    "\n",
    "with open(\"model.pickle\",\"wb\") as file:\n",
    "    pickle.dump(lin_model,file)"
   ]
  },
  {
   "cell_type": "code",
   "execution_count": 38,
   "id": "7c6ddf0e",
   "metadata": {},
   "outputs": [],
   "source": [
    "# we resqured json file so create :\n",
    "\n",
    "import json\n",
    "\n",
    "columns_list = list(x.columns)\n",
    "d1 = {'columns':columns_list}\n",
    "\n",
    "with open(\"features.json\",'w') as file:\n",
    "    json.dump(d1, file)"
   ]
  },
  {
   "cell_type": "code",
   "execution_count": 26,
   "id": "73805179",
   "metadata": {},
   "outputs": [],
   "source": [
    "# Step 8 : API building and API testing"
   ]
  },
  {
   "cell_type": "code",
   "execution_count": null,
   "id": "3d6b57c4",
   "metadata": {},
   "outputs": [],
   "source": [
    "# anaconda chya CMD madhen appan jupyter notebook madhe aahe so baher yenyasathi [ctr+c]\n",
    "# so ya madhe appan anaconda chya CMD madhun VS code open kela [code .] hi commond use karun"
   ]
  },
  {
   "cell_type": "code",
   "execution_count": 36,
   "id": "d444e5b8",
   "metadata": {},
   "outputs": [],
   "source": []
  },
  {
   "cell_type": "code",
   "execution_count": null,
   "id": "10f01d08",
   "metadata": {},
   "outputs": [],
   "source": [
    "# In vs code:\n",
    "# 1. create flask application : create app.py file"
   ]
  },
  {
   "cell_type": "code",
   "execution_count": null,
   "id": "72dcf7df",
   "metadata": {},
   "outputs": [],
   "source": []
  },
  {
   "cell_type": "code",
   "execution_count": null,
   "id": "8f6694f7",
   "metadata": {},
   "outputs": [],
   "source": []
  }
 ],
 "metadata": {
  "kernelspec": {
   "display_name": "Python [conda env:hpp] *",
   "language": "python",
   "name": "conda-env-hpp-py"
  },
  "language_info": {
   "codemirror_mode": {
    "name": "ipython",
    "version": 3
   },
   "file_extension": ".py",
   "mimetype": "text/x-python",
   "name": "python",
   "nbconvert_exporter": "python",
   "pygments_lexer": "ipython3",
   "version": "3.8.10"
  }
 },
 "nbformat": 4,
 "nbformat_minor": 5
}
